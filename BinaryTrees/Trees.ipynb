{
 "cells": [
  {
   "cell_type": "markdown",
   "id": "fd920458-0b58-4f2b-9f92-e6ada5f5f3ae",
   "metadata": {},
   "source": [
    "## Find sum of all nodes of a binary tree"
   ]
  },
  {
   "cell_type": "code",
   "execution_count": 13,
   "id": "e41dc162-07a5-4990-b82c-f2e64f332a46",
   "metadata": {},
   "outputs": [],
   "source": [
    "from binaryTree import binaryTree"
   ]
  },
  {
   "cell_type": "code",
   "execution_count": 14,
   "id": "0356608a-e377-44fa-bf9e-5110d71ce0a7",
   "metadata": {
    "tags": []
   },
   "outputs": [
    {
     "name": "stdin",
     "output_type": "stream",
     "text": [
      " 10\n",
      " 11\n",
      " 30\n",
      " -1\n",
      " -1\n",
      " -1\n",
      " 20\n",
      " -1\n",
      " -1\n"
     ]
    },
    {
     "ename": "NameError",
     "evalue": "name 'root' is not defined",
     "output_type": "error",
     "traceback": [
      "\u001b[1;31m---------------------------------------------------------------------------\u001b[0m",
      "\u001b[1;31mNameError\u001b[0m                                 Traceback (most recent call last)",
      "Cell \u001b[1;32mIn[14], line 2\u001b[0m\n\u001b[0;32m      1\u001b[0m bt\u001b[38;5;241m=\u001b[39mbinaryTree()\n\u001b[1;32m----> 2\u001b[0m root \u001b[38;5;241m=\u001b[39m bt\u001b[38;5;241m.\u001b[39mtakeTreeInput()\n\u001b[0;32m      3\u001b[0m bt\u001b[38;5;241m.\u001b[39mprintBinaryTreeDetailed()\n",
      "File \u001b[1;32mD:\\dsa\\binaryTree.py:44\u001b[0m, in \u001b[0;36mbinaryTree.takeTreeInput\u001b[1;34m(self)\u001b[0m\n\u001b[0;32m     42\u001b[0m \u001b[38;5;28;01mdef\u001b[39;00m \u001b[38;5;21mtakeTreeInput\u001b[39m(\u001b[38;5;28mself\u001b[39m):\n\u001b[0;32m     43\u001b[0m     \u001b[38;5;28mself\u001b[39m\u001b[38;5;241m.\u001b[39mroot \u001b[38;5;241m=\u001b[39m \u001b[38;5;28mself\u001b[39m\u001b[38;5;241m.\u001b[39mtakeTreeInputHelper()\n\u001b[1;32m---> 44\u001b[0m     \u001b[38;5;28;01mreturn\u001b[39;00m root\n",
      "\u001b[1;31mNameError\u001b[0m: name 'root' is not defined"
     ]
    }
   ],
   "source": [
    "bt=binaryTree()\n",
    "root = bt.takeTreeInput()\n",
    "bt.printBinaryTreeDetailed()"
   ]
  },
  {
   "cell_type": "code",
   "execution_count": 80,
   "id": "4e127c56-82c4-4a99-a606-ef38153ca4a3",
   "metadata": {
    "tags": []
   },
   "outputs": [],
   "source": [
    "# def numNodesHelper(root, count):\n",
    "#     if root == None:\n",
    "#         return 0\n",
    "#     leftSubtree = numNodes(root)\n",
    "#     rightSubtree = numNodes\n",
    "    \n",
    "def numNodes(root):\n",
    "    if root==None:\n",
    "        return 0\n",
    "    leftSubtreeCount =numNodes(root.left)\n",
    "    rightSubtreeCount =numNodes(root.right)\n",
    "    return 1 + leftSubtreeCount + rightSubtreeCount"
   ]
  },
  {
   "cell_type": "code",
   "execution_count": 81,
   "id": "d6afb491-8e05-4ec1-b264-18354326c6cb",
   "metadata": {
    "tags": []
   },
   "outputs": [
    {
     "name": "stdin",
     "output_type": "stream",
     "text": [
      " 10\n",
      " 11\n",
      " 30\n",
      " -1\n",
      " -1\n",
      " -1\n",
      " 20\n",
      " -1\n",
      " -1\n"
     ]
    },
    {
     "name": "stdout",
     "output_type": "stream",
     "text": [
      "10:L 11,R 20 \n",
      "11:L 30,\n",
      "30:\n",
      "20:\n",
      "0\n"
     ]
    }
   ],
   "source": [
    "bt=binaryTree()\n",
    "root = bt.takeTreeInput()\n",
    "bt.printBinaryTreeDetailed()\n",
    "print(numNodes(root))"
   ]
  },
  {
   "cell_type": "code",
   "execution_count": 15,
   "id": "c742298d-a643-4172-a6ff-8c01990f23cc",
   "metadata": {
    "tags": []
   },
   "outputs": [],
   "source": [
    "def printTree(root):\n",
    "    if root==None:\n",
    "        return\n",
    "    print(root.data)\n",
    "    printTree(root.left)\n",
    "    printTree(root.right)"
   ]
  },
  {
   "cell_type": "code",
   "execution_count": 16,
   "id": "cc4d2668-8ec9-47b5-88a2-886071f96984",
   "metadata": {
    "tags": []
   },
   "outputs": [
    {
     "name": "stdout",
     "output_type": "stream",
     "text": [
      "10\n",
      "30\n",
      "11\n",
      "20\n"
     ]
    }
   ],
   "source": [
    "printTree(btNode1)"
   ]
  },
  {
   "cell_type": "code",
   "execution_count": 86,
   "id": "62178d54-c347-42a5-8f5a-cbb566263662",
   "metadata": {
    "tags": []
   },
   "outputs": [],
   "source": [
    "def printTreeDetailed(root):\n",
    "    if root==None:\n",
    "        return \n",
    "    print(root.data, end=\":\")\n",
    "    if root.left!=None:\n",
    "        print(\"L\", root.left.data, end=\",\")\n",
    "        \n",
    "    if root.right!=None:\n",
    "        print(\"R\", root.right.data, end=\" \")\n",
    "    print()\n",
    "    printTreeDetailed(root.left)\n",
    "    printTreeDetailed(root.right)"
   ]
  },
  {
   "cell_type": "code",
   "execution_count": 87,
   "id": "bb657060-bf21-45b2-a463-5e89d8f4e276",
   "metadata": {
    "tags": []
   },
   "outputs": [],
   "source": [
    "printTreeDetailed(root)"
   ]
  },
  {
   "cell_type": "code",
   "execution_count": 25,
   "id": "3ea1319f-79d5-40b7-a2f7-022c00920b52",
   "metadata": {
    "tags": []
   },
   "outputs": [],
   "source": [
    "def treeInput():\n",
    "    rootData=int(input())\n",
    "    if rootData == -1:\n",
    "        return None\n",
    "    root = node(rootData)\n",
    "    leftTree = treeInput()\n",
    "    rightTree = treeInput()\n",
    "    root.left = leftTree\n",
    "    root.right = rightTree\n",
    "    return root"
   ]
  },
  {
   "cell_type": "code",
   "execution_count": 26,
   "id": "b12260af-d807-42c8-9957-9f6488aa9b04",
   "metadata": {
    "tags": []
   },
   "outputs": [
    {
     "name": "stdin",
     "output_type": "stream",
     "text": [
      " 10\n",
      " 30\n",
      " 11\n",
      " -1\n",
      " -1\n",
      " -1\n",
      " 20\n",
      " -1\n",
      " -1\n"
     ]
    }
   ],
   "source": [
    "root = treeInput()"
   ]
  },
  {
   "cell_type": "code",
   "execution_count": 82,
   "id": "34dbb048-4b9e-4776-932d-6b017280b49b",
   "metadata": {
    "tags": []
   },
   "outputs": [],
   "source": [
    "printTreeDetailed(root)"
   ]
  },
  {
   "cell_type": "code",
   "execution_count": 6,
   "id": "65632a4d-b8d4-4d41-a152-03cf764b52a7",
   "metadata": {
    "tags": []
   },
   "outputs": [
    {
     "name": "stdin",
     "output_type": "stream",
     "text": [
      " 10\n",
      " 11\n",
      " 30\n",
      " -1\n",
      " -1\n",
      " -1\n",
      " 20\n",
      " -1\n",
      " -1\n"
     ]
    },
    {
     "name": "stdout",
     "output_type": "stream",
     "text": [
      "10:L 11,R 20 \n",
      "11:L 30,\n",
      "30:\n",
      "20:\n"
     ]
    }
   ],
   "source": [
    "class binaryTreeNode:\n",
    "    def __init__(self,data):\n",
    "        self.data = data\n",
    "        self.left=None\n",
    "        self.right=None\n",
    "class binaryTree:\n",
    "    def __init__(self):\n",
    "        self.root = None\n",
    "    def printBinaryTreeHelper(self, root):\n",
    "        if root == None:\n",
    "            return\n",
    "        print(root.data)\n",
    "        self.printBinaryTreeHelper(root.left)\n",
    "        self.printBinaryTreeHelper(root.right)\n",
    "    def printBinaryTreeDetailedHelper(self, root):\n",
    "        if root == None:\n",
    "            return\n",
    "        print(root.data,end=\":\")\n",
    "        if root.left!=None:\n",
    "            print(f\"L {root.left.data}\",end=\",\")\n",
    "        if root.right!=None:\n",
    "            print(f\"R {root.right.data}\",end=\" \")\n",
    "        print()\n",
    "        self.printBinaryTreeDetailedHelper(root.left)\n",
    "        self.printBinaryTreeDetailedHelper(root.right)\n",
    "    def printBinaryTree(self):\n",
    "        self.printBinaryTreeHelper(self.root)\n",
    "    def printBinaryTreeDetailed(self):\n",
    "        self.printBinaryTreeDetailedHelper(self.root)\n",
    "    def takeTreeInputHelper(self):\n",
    "        rootData=int(input())\n",
    "        if rootData == -1:\n",
    "            return None\n",
    "        root = binaryTreeNode(rootData)\n",
    "        leftTree=self.takeTreeInputHelper()\n",
    "        rightTree=self.takeTreeInputHelper()\n",
    "        if leftTree!=None:\n",
    "            root.left=leftTree\n",
    "        if rightTree!=None:\n",
    "            root.right=rightTree\n",
    "        return root\n",
    "    def takeTreeInput(self):\n",
    "        self.root = self.takeTreeInputHelper()\n",
    "        return self.root\n",
    "\n",
    "# \n",
    "    \n",
    "# def printTreeDetailedExternal(root):\n",
    "#     if root==None:\n",
    "#         return \n",
    "#     print(root.data, end=\":\")\n",
    "#     if root.left!=None:\n",
    "#         print(\"L\", root.left.data, end=\",\")\n",
    "        \n",
    "#     if root.right!=None:\n",
    "#         print(\"R\", root.right.data, end=\" \")\n",
    "#     print()\n",
    "#     printTreeDetailedExternal(root.left)\n",
    "#     printTreeDetailedExternal(root.right)\n",
    "    \n",
    "# bt=binaryTree()\n",
    "# root = bt.takeTreeInput()\n",
    "# printTreeDetailedExternal(root)"
   ]
  },
  {
   "cell_type": "code",
   "execution_count": null,
   "id": "ba751915-509c-4ef5-937d-78e5f931de5b",
   "metadata": {},
   "outputs": [],
   "source": []
  }
 ],
 "metadata": {
  "kernelspec": {
   "display_name": "Python 3 (ipykernel)",
   "language": "python",
   "name": "python3"
  },
  "language_info": {
   "codemirror_mode": {
    "name": "ipython",
    "version": 3
   },
   "file_extension": ".py",
   "mimetype": "text/x-python",
   "name": "python",
   "nbconvert_exporter": "python",
   "pygments_lexer": "ipython3",
   "version": "3.11.5"
  }
 },
 "nbformat": 4,
 "nbformat_minor": 5
}
