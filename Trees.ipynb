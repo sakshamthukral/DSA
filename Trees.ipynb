{
 "cells": [
  {
   "cell_type": "markdown",
   "id": "fd920458-0b58-4f2b-9f92-e6ada5f5f3ae",
   "metadata": {},
   "source": [
    "## Find sum of all nodes of a binary tree"
   ]
  },
  {
   "cell_type": "code",
   "execution_count": 13,
   "id": "e41dc162-07a5-4990-b82c-f2e64f332a46",
   "metadata": {},
   "outputs": [],
   "source": [
    "from binaryTree import binaryTree"
   ]
  },
  {
   "cell_type": "code",
   "execution_count": 14,
   "id": "0356608a-e377-44fa-bf9e-5110d71ce0a7",
   "metadata": {
    "tags": []
   },
   "outputs": [
    {
     "name": "stdin",
     "output_type": "stream",
     "text": [
      " 10\n",
      " 11\n",
      " 30\n",
      " -1\n",
      " -1\n",
      " -1\n",
      " 20\n",
      " -1\n",
      " -1\n"
     ]
    },
    {
     "ename": "NameError",
     "evalue": "name 'root' is not defined",
     "output_type": "error",
     "traceback": [
      "\u001b[1;31m---------------------------------------------------------------------------\u001b[0m",
      "\u001b[1;31mNameError\u001b[0m                                 Traceback (most recent call last)",
      "Cell \u001b[1;32mIn[14], line 2\u001b[0m\n\u001b[0;32m      1\u001b[0m bt\u001b[38;5;241m=\u001b[39mbinaryTree()\n\u001b[1;32m----> 2\u001b[0m root \u001b[38;5;241m=\u001b[39m bt\u001b[38;5;241m.\u001b[39mtakeTreeInput()\n\u001b[0;32m      3\u001b[0m bt\u001b[38;5;241m.\u001b[39mprintBinaryTreeDetailed()\n",
      "File \u001b[1;32mD:\\dsa\\binaryTree.py:44\u001b[0m, in \u001b[0;36mbinaryTree.takeTreeInput\u001b[1;34m(self)\u001b[0m\n\u001b[0;32m     42\u001b[0m \u001b[38;5;28;01mdef\u001b[39;00m \u001b[38;5;21mtakeTreeInput\u001b[39m(\u001b[38;5;28mself\u001b[39m):\n\u001b[0;32m     43\u001b[0m     \u001b[38;5;28mself\u001b[39m\u001b[38;5;241m.\u001b[39mroot \u001b[38;5;241m=\u001b[39m \u001b[38;5;28mself\u001b[39m\u001b[38;5;241m.\u001b[39mtakeTreeInputHelper()\n\u001b[1;32m---> 44\u001b[0m     \u001b[38;5;28;01mreturn\u001b[39;00m root\n",
      "\u001b[1;31mNameError\u001b[0m: name 'root' is not defined"
     ]
    }
   ],
   "source": [
    "bt=binaryTree()\n",
    "root = bt.takeTreeInput()\n",
    "bt.printBinaryTreeDetailed()"
   ]
  },
  {
   "cell_type": "code",
   "execution_count": 80,
   "id": "4e127c56-82c4-4a99-a606-ef38153ca4a3",
   "metadata": {
    "tags": []
   },
   "outputs": [],
   "source": [
    "# def numNodesHelper(root, count):\n",
    "#     if root == None:\n",
    "#         return 0\n",
    "#     leftSubtree = numNodes(root)\n",
    "#     rightSubtree = numNodes\n",
    "    \n",
    "def numNodes(root):\n",
    "    if root==None:\n",
    "        return 0\n",
    "    leftSubtreeCount =numNodes(root.left)\n",
    "    rightSubtreeCount =numNodes(root.right)\n",
    "    return 1 + leftSubtreeCount + rightSubtreeCount"
   ]
  },
  {
   "cell_type": "code",
   "execution_count": 81,
   "id": "d6afb491-8e05-4ec1-b264-18354326c6cb",
   "metadata": {
    "tags": []
   },
   "outputs": [
    {
     "name": "stdin",
     "output_type": "stream",
     "text": [
      " 10\n",
      " 11\n",
      " 30\n",
      " -1\n",
      " -1\n",
      " -1\n",
      " 20\n",
      " -1\n",
      " -1\n"
     ]
    },
    {
     "name": "stdout",
     "output_type": "stream",
     "text": [
      "10:L 11,R 20 \n",
      "11:L 30,\n",
      "30:\n",
      "20:\n",
      "0\n"
     ]
    }
   ],
   "source": [
    "bt=binaryTree()\n",
    "root = bt.takeTreeInput()\n",
    "bt.printBinaryTreeDetailed()\n",
    "print(numNodes(root))"
   ]
  },
  {
   "cell_type": "code",
   "execution_count": 15,
   "id": "c742298d-a643-4172-a6ff-8c01990f23cc",
   "metadata": {
    "tags": []
   },
   "outputs": [],
   "source": [
    "def printTree(root):\n",
    "    if root==None:\n",
    "        return\n",
    "    print(root.data)\n",
    "    printTree(root.left)\n",
    "    printTree(root.right)"
   ]
  },
  {
   "cell_type": "code",
   "execution_count": 16,
   "id": "cc4d2668-8ec9-47b5-88a2-886071f96984",
   "metadata": {
    "tags": []
   },
   "outputs": [
    {
     "name": "stdout",
     "output_type": "stream",
     "text": [
      "10\n",
      "30\n",
      "11\n",
      "20\n"
     ]
    }
   ],
   "source": [
    "printTree(btNode1)"
   ]
  },
  {
   "cell_type": "code",
   "execution_count": 86,
   "id": "62178d54-c347-42a5-8f5a-cbb566263662",
   "metadata": {
    "tags": []
   },
   "outputs": [],
   "source": [
    "def printTreeDetailed(root):\n",
    "    if root==None:\n",
    "        return \n",
    "    print(root.data, end=\":\")\n",
    "    if root.left!=None:\n",
    "        print(\"L\", root.left.data, end=\",\")\n",
    "        \n",
    "    if root.right!=None:\n",
    "        print(\"R\", root.right.data, end=\" \")\n",
    "    print()\n",
    "    printTreeDetailed(root.left)\n",
    "    printTreeDetailed(root.right)"
   ]
  },
  {
   "cell_type": "code",
   "execution_count": 87,
   "id": "bb657060-bf21-45b2-a463-5e89d8f4e276",
   "metadata": {
    "tags": []
   },
   "outputs": [],
   "source": [
    "printTreeDetailed(root)"
   ]
  },
  {
   "cell_type": "code",
   "execution_count": 25,
   "id": "3ea1319f-79d5-40b7-a2f7-022c00920b52",
   "metadata": {
    "tags": []
   },
   "outputs": [],
   "source": [
    "def treeInput():\n",
    "    rootData=int(input())\n",
    "    if rootData == -1:\n",
    "        return None\n",
    "    root = node(rootData)\n",
    "    leftTree = treeInput()\n",
    "    rightTree = treeInput()\n",
    "    root.left = leftTree\n",
    "    root.right = rightTree\n",
    "    return root"
   ]
  },
  {
   "cell_type": "code",
   "execution_count": 26,
   "id": "b12260af-d807-42c8-9957-9f6488aa9b04",
   "metadata": {
    "tags": []
   },
   "outputs": [
    {
     "name": "stdin",
     "output_type": "stream",
     "text": [
      " 10\n",
      " 30\n",
      " 11\n",
      " -1\n",
      " -1\n",
      " -1\n",
      " 20\n",
      " -1\n",
      " -1\n"
     ]
    }
   ],
   "source": [
    "root = treeInput()"
   ]
  },
  {
   "cell_type": "code",
   "execution_count": 82,
   "id": "34dbb048-4b9e-4776-932d-6b017280b49b",
   "metadata": {
    "tags": []
   },
   "outputs": [],
   "source": [
    "printTreeDetailed(root)"
   ]
  },
  {
   "cell_type": "code",
   "execution_count": 6,
   "id": "65632a4d-b8d4-4d41-a152-03cf764b52a7",
   "metadata": {
    "tags": []
   },
   "outputs": [
    {
     "name": "stdin",
     "output_type": "stream",
     "text": [
      " 10\n",
      " 11\n",
      " 30\n",
      " -1\n",
      " -1\n",
      " -1\n",
      " 20\n",
      " -1\n",
      " -1\n"
     ]
    },
    {
     "name": "stdout",
     "output_type": "stream",
     "text": [
      "10:L 11,R 20 \n",
      "11:L 30,\n",
      "30:\n",
      "20:\n"
     ]
    }
   ],
   "source": [
    "class binaryTreeNode:\n",
    "    def __init__(self,data):\n",
    "        self.data = data\n",
    "        self.left=None\n",
    "        self.right=None\n",
    "class binaryTree:\n",
    "    def __init__(self):\n",
    "        self.root = None\n",
    "    def printBinaryTreeHelper(self, root):\n",
    "        if root == None:\n",
    "            return\n",
    "        print(root.data)\n",
    "        self.printBinaryTreeHelper(root.left)\n",
    "        self.printBinaryTreeHelper(root.right)\n",
    "    def printBinaryTreeDetailedHelper(self, root):\n",
    "        if root == None:\n",
    "            return\n",
    "        print(root.data,end=\":\")\n",
    "        if root.left!=None:\n",
    "            print(f\"L {root.left.data}\",end=\",\")\n",
    "        if root.right!=None:\n",
    "            print(f\"R {root.right.data}\",end=\" \")\n",
    "        print()\n",
    "        self.printBinaryTreeDetailedHelper(root.left)\n",
    "        self.printBinaryTreeDetailedHelper(root.right)\n",
    "    def printBinaryTree(self):\n",
    "        self.printBinaryTreeHelper(self.root)\n",
    "    def printBinaryTreeDetailed(self):\n",
    "        self.printBinaryTreeDetailedHelper(self.root)\n",
    "    def takeTreeInputHelper(self):\n",
    "        rootData=int(input())\n",
    "        if rootData == -1:\n",
    "            return None\n",
    "        root = binaryTreeNode(rootData)\n",
    "        leftTree=self.takeTreeInputHelper()\n",
    "        rightTree=self.takeTreeInputHelper()\n",
    "        if leftTree!=None:\n",
    "            root.left=leftTree\n",
    "        if rightTree!=None:\n",
    "            root.right=rightTree\n",
    "        return root\n",
    "    def takeTreeInput(self):\n",
    "        self.root = self.takeTreeInputHelper()\n",
    "        return self.root\n",
    "\n",
    "# \n",
    "    \n",
    "# def printTreeDetailedExternal(root):\n",
    "#     if root==None:\n",
    "#         return \n",
    "#     print(root.data, end=\":\")\n",
    "#     if root.left!=None:\n",
    "#         print(\"L\", root.left.data, end=\",\")\n",
    "        \n",
    "#     if root.right!=None:\n",
    "#         print(\"R\", root.right.data, end=\" \")\n",
    "#     print()\n",
    "#     printTreeDetailedExternal(root.left)\n",
    "#     printTreeDetailedExternal(root.right)\n",
    "    \n",
    "# bt=binaryTree()\n",
    "# root = bt.takeTreeInput()\n",
    "# printTreeDetailedExternal(root)"
   ]
  },
  {
   "cell_type": "code",
   "execution_count": 15,
   "id": "ba751915-509c-4ef5-937d-78e5f931de5b",
   "metadata": {},
   "outputs": [
    {
     "data": {
      "text/plain": [
       "0"
      ]
     },
     "execution_count": 15,
     "metadata": {},
     "output_type": "execute_result"
    }
   ],
   "source": [
    "max(0,0)"
   ]
  },
  {
   "cell_type": "code",
   "execution_count": 1,
   "id": "0a2bf765-ae61-4b34-95d0-c28b3a7df374",
   "metadata": {},
   "outputs": [
    {
     "name": "stdout",
     "output_type": "stream",
     "text": [
      "4\n",
      "20\n"
     ]
    },
    {
     "data": {
      "text/plain": [
       "2"
      ]
     },
     "execution_count": 1,
     "metadata": {},
     "output_type": "execute_result"
    }
   ],
   "source": [
    "# Python program to print nodes at distance k from a given node\n",
    "\n",
    "# A binary tree node \n",
    "class Node:\n",
    "\t# A constructor to create a new node\n",
    "\tdef __init__(self, data):\n",
    "\t\tself.data = data\n",
    "\t\tself.left = None\n",
    "\t\tself.right = None\n",
    "\t\n",
    "# Recursive function to print all the nodes at distance k\n",
    "# int the tree(or subtree) rooted with given root. See \n",
    "def printkDistanceNodeDown(root, k):\n",
    "\t\n",
    "\t# Base Case\n",
    "\tif root is None or k< 0 :\n",
    "\t\treturn\n",
    "\t\n",
    "\t# If we reach a k distant node, print it\n",
    "\tif k == 0 :\n",
    "\t\tprint (root.data)\n",
    "\t\treturn\n",
    "\t\n",
    "\t# Recur for left and right subtree\n",
    "\tprintkDistanceNodeDown(root.left, k-1)\n",
    "\tprintkDistanceNodeDown(root.right, k-1)\n",
    "\n",
    "\n",
    "# Prints all nodes at distance k from a given target node\n",
    "# The k distant nodes may be upward or downward. This function\n",
    "# returns distance of root from target node, it returns -1 \n",
    "# if target node is not present in tree rooted with root\n",
    "def printkDistanceNode(root, target, k):\n",
    "\t\n",
    "\t# Base Case 1 : IF tree is empty return -1\n",
    "\tif root is None:\n",
    "\t\treturn -1\n",
    "\n",
    "\t# If target is same as root. Use the downward function\n",
    "\t# to print all nodes at distance k in subtree rooted with\n",
    "\t# target or root\n",
    "\tif root == target:\n",
    "\t\tprintkDistanceNodeDown(root, k)\n",
    "\t\treturn 0\n",
    "\t\n",
    "\t# Recur for left subtree\n",
    "\tdl = printkDistanceNode(root.left, target, k)\n",
    "\t\n",
    "\t# Check if target node was found in left subtree\n",
    "\tif dl != -1:\n",
    "\t\t\n",
    "\t\t# If root is at distance k from target, print root\n",
    "\t\t# Note: dl is distance of root's left child \n",
    "\t\t# from target\n",
    "\t\tif dl +1 == k :\n",
    "\t\t\tprint (root.data)\n",
    "\t\n",
    "\t\t# Else go to right subtree and print all k-dl-2\n",
    "\t\t# distant nodes \n",
    "\t\t# Note: that the right child is 2 edges away from\n",
    "\t\t# left child\n",
    "\t\telse:\n",
    "\t\t\tprintkDistanceNodeDown(root.right, k-dl-2)\n",
    "\n",
    "\t\t# Add 1 to the distance and return value for\n",
    "\t\t# for parent calls \n",
    "\t\treturn 1 + dl\n",
    "\n",
    "\t# MIRROR OF ABOVE CODE FOR RIGHT SUBTREE\n",
    "\t# Note that we reach here only when node was not found\n",
    "\t# in left subtree\n",
    "\tdr = printkDistanceNode(root.right, target, k)\n",
    "\tif dr != -1:\n",
    "\t\tif (dr+1 == k):\n",
    "\t\t\tprint (root.data)\n",
    "\t\telse:\n",
    "\t\t\tprintkDistanceNodeDown(root.left, k-dr-2)\n",
    "\t\treturn 1 + dr\n",
    "\n",
    "\t# If target was neither present in left nor in right subtree\n",
    "\treturn -1\n",
    "\n",
    "# Driver program to test above function\n",
    "root = Node(20)\n",
    "root.left = Node(8)\n",
    "root.right = Node(22)\n",
    "root.left.left = Node(4)\n",
    "root.left.right = Node(12)\n",
    "root.left.right.left = Node(10)\n",
    "root.left.right.right = Node(14)\n",
    "target = root.left.right\n",
    "printkDistanceNode(root, target, 2)\n",
    "\n",
    "# This code is contributed by Nikhil Kumar Singh(nickzuck_007)\n"
   ]
  },
  {
   "cell_type": "code",
   "execution_count": 2,
   "id": "aef5c955-eecd-4204-95d1-3d8331494ff8",
   "metadata": {},
   "outputs": [],
   "source": [
    "tup = (0,0)"
   ]
  },
  {
   "cell_type": "code",
   "execution_count": 3,
   "id": "2b80400f-1d1e-470d-b453-e2ea96dfcdc2",
   "metadata": {
    "tags": []
   },
   "outputs": [
    {
     "ename": "TypeError",
     "evalue": "'tuple' object does not support item assignment",
     "output_type": "error",
     "traceback": [
      "\u001b[1;31m---------------------------------------------------------------------------\u001b[0m",
      "\u001b[1;31mTypeError\u001b[0m                                 Traceback (most recent call last)",
      "Cell \u001b[1;32mIn[3], line 1\u001b[0m\n\u001b[1;32m----> 1\u001b[0m tup[\u001b[38;5;241m0\u001b[39m]\u001b[38;5;241m+\u001b[39m\u001b[38;5;241m=\u001b[39m\u001b[38;5;241m1\u001b[39m\n",
      "\u001b[1;31mTypeError\u001b[0m: 'tuple' object does not support item assignment"
     ]
    }
   ],
   "source": [
    "tup[0]+=1"
   ]
  },
  {
   "cell_type": "code",
   "execution_count": 6,
   "id": "f7f7505e-5a5f-4db0-809b-f8c39f370aae",
   "metadata": {
    "tags": []
   },
   "outputs": [
    {
     "data": {
      "text/plain": [
       "['N', 'E', 'S']"
      ]
     },
     "execution_count": 6,
     "metadata": {},
     "output_type": "execute_result"
    }
   ],
   "source": [
    "path = \"NES\"\n",
    "list(path)"
   ]
  },
  {
   "cell_type": "code",
   "execution_count": 7,
   "id": "aa5ab19a-b63d-4e4c-a5f4-99926a485e33",
   "metadata": {
    "tags": []
   },
   "outputs": [],
   "source": [
    "cordinates = [0,0]\n",
    "traversed_coordinates = []\n",
    "traversed_coordinates.append(cordinates)\n",
    "\n",
    "for i in range(10):\n",
    "    for j in range(5):\n",
    "        cordinates[0]+=1\n",
    "        cordinates[1]+=2\n",
    "        traversed_coordinates.append(cordinates)"
   ]
  },
  {
   "cell_type": "code",
   "execution_count": 8,
   "id": "a60c24d7-394f-4430-8046-8e8e9a2bfae9",
   "metadata": {
    "tags": []
   },
   "outputs": [
    {
     "data": {
      "text/plain": [
       "[[50, 100],\n",
       " [50, 100],\n",
       " [50, 100],\n",
       " [50, 100],\n",
       " [50, 100],\n",
       " [50, 100],\n",
       " [50, 100],\n",
       " [50, 100],\n",
       " [50, 100],\n",
       " [50, 100],\n",
       " [50, 100],\n",
       " [50, 100],\n",
       " [50, 100],\n",
       " [50, 100],\n",
       " [50, 100],\n",
       " [50, 100],\n",
       " [50, 100],\n",
       " [50, 100],\n",
       " [50, 100],\n",
       " [50, 100],\n",
       " [50, 100],\n",
       " [50, 100],\n",
       " [50, 100],\n",
       " [50, 100],\n",
       " [50, 100],\n",
       " [50, 100],\n",
       " [50, 100],\n",
       " [50, 100],\n",
       " [50, 100],\n",
       " [50, 100],\n",
       " [50, 100],\n",
       " [50, 100],\n",
       " [50, 100],\n",
       " [50, 100],\n",
       " [50, 100],\n",
       " [50, 100],\n",
       " [50, 100],\n",
       " [50, 100],\n",
       " [50, 100],\n",
       " [50, 100],\n",
       " [50, 100],\n",
       " [50, 100],\n",
       " [50, 100],\n",
       " [50, 100],\n",
       " [50, 100],\n",
       " [50, 100],\n",
       " [50, 100],\n",
       " [50, 100],\n",
       " [50, 100],\n",
       " [50, 100],\n",
       " [50, 100]]"
      ]
     },
     "execution_count": 8,
     "metadata": {},
     "output_type": "execute_result"
    }
   ],
   "source": [
    "traversed_coordinates"
   ]
  },
  {
   "cell_type": "code",
   "execution_count": 2,
   "id": "5d664293-6ee8-4a87-8779-54f4797f3163",
   "metadata": {},
   "outputs": [
    {
     "data": {
      "text/plain": [
       "0"
      ]
     },
     "execution_count": 2,
     "metadata": {},
     "output_type": "execute_result"
    }
   ],
   "source": [
    "(0+1)//2"
   ]
  },
  {
   "cell_type": "code",
   "execution_count": 6,
   "id": "c36d3b87-4a2c-44d9-bf53-8041a89fedda",
   "metadata": {
    "tags": []
   },
   "outputs": [
    {
     "data": {
      "text/plain": [
       "1"
      ]
     },
     "execution_count": 6,
     "metadata": {},
     "output_type": "execute_result"
    }
   ],
   "source": [
    "3%2"
   ]
  },
  {
   "cell_type": "code",
   "execution_count": null,
   "id": "f4458eef-2496-462f-b007-08d8a5c1c3f4",
   "metadata": {},
   "outputs": [],
   "source": []
  }
 ],
 "metadata": {
  "kernelspec": {
   "display_name": "Python 3 (ipykernel)",
   "language": "python",
   "name": "python3"
  },
  "language_info": {
   "codemirror_mode": {
    "name": "ipython",
    "version": 3
   },
   "file_extension": ".py",
   "mimetype": "text/x-python",
   "name": "python",
   "nbconvert_exporter": "python",
   "pygments_lexer": "ipython3",
   "version": "3.11.5"
  }
 },
 "nbformat": 4,
 "nbformat_minor": 5
}
