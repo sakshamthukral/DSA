{
 "cells": [
  {
   "cell_type": "code",
   "execution_count": 2,
   "id": "41ef3cbd-a495-4aa7-8150-64d4f417c82b",
   "metadata": {
    "tags": []
   },
   "outputs": [],
   "source": [
    "def hammingWeight(n):\n",
    "        \"\"\"\n",
    "        :type n: int\n",
    "        :rtype: int\n",
    "        \"\"\"\n",
    "        return str(n).count('1')"
   ]
  },
  {
   "cell_type": "code",
   "execution_count": 3,
   "id": "4b38050f-72c3-41f2-8866-dfe91a336533",
   "metadata": {
    "tags": []
   },
   "outputs": [
    {
     "name": "stdout",
     "output_type": "stream",
     "text": [
      "31\n"
     ]
    }
   ],
   "source": [
    "num = 11111111111111111111111111111101\n",
    "print(hammingWeight(num))"
   ]
  },
  {
   "cell_type": "code",
   "execution_count": 2,
   "id": "4f9f751b-c9b3-4bb0-960e-6a3ba0da71bf",
   "metadata": {},
   "outputs": [
    {
     "name": "stdout",
     "output_type": "stream",
     "text": [
      "1\n",
      "1\n"
     ]
    }
   ],
   "source": [
    "count = 11\n",
    "for ele in str(count):\n",
    "    print(ele)"
   ]
  },
  {
   "cell_type": "code",
   "execution_count": 5,
   "id": "ca278b34-50a3-4aa7-813c-6cf5e164414a",
   "metadata": {
    "tags": []
   },
   "outputs": [
    {
     "data": {
      "text/plain": [
       "7"
      ]
     },
     "execution_count": 5,
     "metadata": {},
     "output_type": "execute_result"
    }
   ],
   "source": [
    "arr = [3,7,1,100,13]\n",
    "max(arr[:3])"
   ]
  },
  {
   "cell_type": "code",
   "execution_count": 6,
   "id": "ecad8637-4e71-4bf7-bb1b-f6118186213a",
   "metadata": {
    "tags": []
   },
   "outputs": [
    {
     "data": {
      "text/plain": [
       "2"
      ]
     },
     "execution_count": 6,
     "metadata": {},
     "output_type": "execute_result"
    }
   ],
   "source": [
    "5//2"
   ]
  },
  {
   "cell_type": "code",
   "execution_count": 7,
   "id": "221725a2-7d3d-4a16-9958-c99893ce6bc7",
   "metadata": {
    "tags": []
   },
   "outputs": [
    {
     "data": {
      "text/plain": [
       "2"
      ]
     },
     "execution_count": 7,
     "metadata": {},
     "output_type": "execute_result"
    }
   ],
   "source": [
    "4//2"
   ]
  },
  {
   "cell_type": "code",
   "execution_count": 10,
   "id": "e799eebe-6775-47f4-8224-d47cfe543538",
   "metadata": {
    "tags": []
   },
   "outputs": [
    {
     "name": "stdin",
     "output_type": "stream",
     "text": [
      " \n"
     ]
    },
    {
     "ename": "ValueError",
     "evalue": "invalid literal for int() with base 10: ''",
     "output_type": "error",
     "traceback": [
      "\u001b[1;31m---------------------------------------------------------------------------\u001b[0m",
      "\u001b[1;31mValueError\u001b[0m                                Traceback (most recent call last)",
      "Cell \u001b[1;32mIn[10], line 1\u001b[0m\n\u001b[1;32m----> 1\u001b[0m rootData \u001b[38;5;241m=\u001b[39m \u001b[38;5;28mint\u001b[39m(\u001b[38;5;28minput\u001b[39m())\n\u001b[0;32m      2\u001b[0m \u001b[38;5;28;01mif\u001b[39;00m rootData \u001b[38;5;241m==\u001b[39m \u001b[38;5;241m-\u001b[39m\u001b[38;5;241m1\u001b[39m:\n\u001b[0;32m      3\u001b[0m     \u001b[38;5;28mprint\u001b[39m(\u001b[38;5;124m\"\u001b[39m\u001b[38;5;124mNone\u001b[39m\u001b[38;5;124m\"\u001b[39m)\n",
      "\u001b[1;31mValueError\u001b[0m: invalid literal for int() with base 10: ''"
     ]
    }
   ],
   "source": [
    "rootData = int(input())\n",
    "if rootData == -1:\n",
    "    print(\"None\")\n",
    "else:\n",
    "    print(\"accepted\")"
   ]
  },
  {
   "cell_type": "code",
   "execution_count": 1,
   "id": "1a21a8e4-59c7-4f46-9417-a61715f81f34",
   "metadata": {},
   "outputs": [],
   "source": [
    "result = [[1,2],[3]]"
   ]
  },
  {
   "cell_type": "code",
   "execution_count": 2,
   "id": "7b4f8780-81f2-4c60-9b77-dc6506a277f8",
   "metadata": {
    "tags": []
   },
   "outputs": [
    {
     "data": {
      "text/plain": [
       "[[1, 2, 5], [3]]"
      ]
     },
     "execution_count": 2,
     "metadata": {},
     "output_type": "execute_result"
    }
   ],
   "source": [
    "result[1-1].append(5)\n",
    "result"
   ]
  },
  {
   "cell_type": "code",
   "execution_count": 12,
   "id": "1f81faf9-776e-48be-9605-8c7ab86001e1",
   "metadata": {
    "tags": []
   },
   "outputs": [
    {
     "name": "stdout",
     "output_type": "stream",
     "text": [
      "2\n"
     ]
    }
   ],
   "source": [
    "print(len(result))\n",
    "if len(result)<2:\n",
    "    print(\"hello\")"
   ]
  },
  {
   "cell_type": "code",
   "execution_count": 7,
   "id": "4e171ca0-c288-4a73-80cf-0e3896244385",
   "metadata": {
    "tags": []
   },
   "outputs": [
    {
     "data": {
      "text/plain": [
       "2"
      ]
     },
     "execution_count": 7,
     "metadata": {},
     "output_type": "execute_result"
    }
   ],
   "source": [
    "len(result)"
   ]
  },
  {
   "cell_type": "code",
   "execution_count": 11,
   "id": "d0c0a4d0-de13-41cb-84d4-54be5254ebcc",
   "metadata": {
    "tags": []
   },
   "outputs": [
    {
     "data": {
      "text/plain": [
       "False"
      ]
     },
     "execution_count": 11,
     "metadata": {},
     "output_type": "execute_result"
    }
   ],
   "source": [
    "2<2"
   ]
  },
  {
   "cell_type": "code",
   "execution_count": 13,
   "id": "c379837a-275e-4432-ac16-e3f7a6fe29a3",
   "metadata": {
    "tags": []
   },
   "outputs": [
    {
     "data": {
      "text/plain": [
       "[]"
      ]
     },
     "execution_count": 13,
     "metadata": {},
     "output_type": "execute_result"
    }
   ],
   "source": [
    "l=[2,4,5]\n",
    "l[:0]"
   ]
  },
  {
   "cell_type": "code",
   "execution_count": 17,
   "id": "ccc9f475-9d7a-45f4-b001-834610445407",
   "metadata": {
    "tags": []
   },
   "outputs": [
    {
     "data": {
      "text/plain": [
       "2"
      ]
     },
     "execution_count": 17,
     "metadata": {},
     "output_type": "execute_result"
    }
   ],
   "source": [
    "4//2"
   ]
  },
  {
   "cell_type": "code",
   "execution_count": 16,
   "id": "6aaad935-b0b2-4299-953b-e3cf5bb0a324",
   "metadata": {
    "tags": []
   },
   "outputs": [
    {
     "data": {
      "text/plain": [
       "2"
      ]
     },
     "execution_count": 16,
     "metadata": {},
     "output_type": "execute_result"
    }
   ],
   "source": [
    "5//2"
   ]
  },
  {
   "cell_type": "code",
   "execution_count": 21,
   "id": "27c7f0a6-06c1-4a15-a985-2f7702918e2e",
   "metadata": {
    "tags": []
   },
   "outputs": [],
   "source": [
    "val = 2\n",
    "minVal = float(\"-inf\")\n",
    "maxVal = 2\n",
    "if val<minVal or val>maxVal:\n",
    "    print(\"False\")"
   ]
  },
  {
   "cell_type": "code",
   "execution_count": 22,
   "id": "1d1fe876-6452-44bd-a2e8-2fa3513f592d",
   "metadata": {
    "tags": []
   },
   "outputs": [
    {
     "data": {
      "text/plain": [
       "False"
      ]
     },
     "execution_count": 22,
     "metadata": {},
     "output_type": "execute_result"
    }
   ],
   "source": [
    "val>maxVal"
   ]
  },
  {
   "cell_type": "code",
   "execution_count": 23,
   "id": "a63c941f-1589-4cfd-846b-bd7d4f492d28",
   "metadata": {
    "tags": []
   },
   "outputs": [
    {
     "data": {
      "text/plain": [
       "False"
      ]
     },
     "execution_count": 23,
     "metadata": {},
     "output_type": "execute_result"
    }
   ],
   "source": [
    "val<minVal"
   ]
  },
  {
   "cell_type": "code",
   "execution_count": 1,
   "id": "55a4b3af-b2d2-40cf-9b2b-b93be4b18ce8",
   "metadata": {},
   "outputs": [
    {
     "data": {
      "text/plain": [
       "1"
      ]
     },
     "execution_count": 1,
     "metadata": {},
     "output_type": "execute_result"
    }
   ],
   "source": [
    "1%3"
   ]
  },
  {
   "cell_type": "code",
   "execution_count": 2,
   "id": "3f6cb493-6bc4-470a-8ce1-9e9601ddac8a",
   "metadata": {
    "tags": []
   },
   "outputs": [
    {
     "data": {
      "text/plain": [
       "1"
      ]
     },
     "execution_count": 2,
     "metadata": {},
     "output_type": "execute_result"
    }
   ],
   "source": [
    "1%2"
   ]
  },
  {
   "cell_type": "code",
   "execution_count": 3,
   "id": "6142c57d-feb7-4cb7-b7ca-91e4b6b02eb6",
   "metadata": {
    "tags": []
   },
   "outputs": [
    {
     "data": {
      "text/plain": [
       "1"
      ]
     },
     "execution_count": 3,
     "metadata": {},
     "output_type": "execute_result"
    }
   ],
   "source": [
    "5//3"
   ]
  },
  {
   "cell_type": "code",
   "execution_count": 4,
   "id": "9923ca74-7ec4-4c81-bf80-16febf0cf44c",
   "metadata": {
    "tags": []
   },
   "outputs": [
    {
     "data": {
      "text/plain": [
       "2"
      ]
     },
     "execution_count": 4,
     "metadata": {},
     "output_type": "execute_result"
    }
   ],
   "source": [
    "5%3"
   ]
  },
  {
   "cell_type": "code",
   "execution_count": 5,
   "id": "2ab72acd-ed8b-43a7-8e05-a5c3e12cbf7a",
   "metadata": {
    "tags": []
   },
   "outputs": [
    {
     "data": {
      "text/plain": [
       "1"
      ]
     },
     "execution_count": 5,
     "metadata": {},
     "output_type": "execute_result"
    }
   ],
   "source": [
    "2//2"
   ]
  },
  {
   "cell_type": "code",
   "execution_count": null,
   "id": "a7d67d6a-f63f-4900-95cb-2b5549f3e697",
   "metadata": {},
   "outputs": [],
   "source": []
  }
 ],
 "metadata": {
  "kernelspec": {
   "display_name": "Python 3 (ipykernel)",
   "language": "python",
   "name": "python3"
  },
  "language_info": {
   "codemirror_mode": {
    "name": "ipython",
    "version": 3
   },
   "file_extension": ".py",
   "mimetype": "text/x-python",
   "name": "python",
   "nbconvert_exporter": "python",
   "pygments_lexer": "ipython3",
   "version": "3.11.5"
  }
 },
 "nbformat": 4,
 "nbformat_minor": 5
}
