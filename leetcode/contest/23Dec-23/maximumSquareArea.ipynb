{
 "cells": [
  {
   "cell_type": "code",
   "execution_count": 27,
   "id": "5cb80fdb-4aa4-4e19-916f-052a4c054043",
   "metadata": {
    "tags": []
   },
   "outputs": [],
   "source": [
    "def maximumSquareArea(m,n,hFences,vFences):\n",
    "    hFences.sort()\n",
    "    vFences.sort()\n",
    "    hFences = [1]+hFences+[m]\n",
    "    vFences = [1]+vFences+[n]\n",
    "    print(hFences)\n",
    "    print(vFences)\n",
    "    mod = 10**9+7\n",
    "    cnt = set()\n",
    "    ans=-1\n",
    "    for i in range(len(hFences)):\n",
    "        for j in range(i+1, len(hFences)):\n",
    "            # cnt[hFences[j]-hFences[i]]=1\n",
    "            cnt.add(hFences[j]-hFences[i])\n",
    "    for i in range(len(vFences)):\n",
    "        for j in range(i+1,len(vFences)):\n",
    "            vertical_distance = vFences[j]-vFences[i]\n",
    "            if vertical_distance in cnt:\n",
    "                ans = max(ans,vertical_distance)\n",
    "                \n",
    "    if ans == -1:\n",
    "        return ans\n",
    "    else:\n",
    "        return (ans*ans)%mod"
   ]
  },
  {
   "cell_type": "code",
   "execution_count": 28,
   "id": "0a191f6a-b9be-45e8-943f-7b0859528df3",
   "metadata": {
    "tags": []
   },
   "outputs": [
    {
     "name": "stdout",
     "output_type": "stream",
     "text": [
      "[1, 2, 3, 4]\n",
      "[1, 2, 3]\n"
     ]
    },
    {
     "data": {
      "text/plain": [
       "4"
      ]
     },
     "execution_count": 28,
     "metadata": {},
     "output_type": "execute_result"
    }
   ],
   "source": [
    "m=4\n",
    "n=3\n",
    "hFences = [2,3]\n",
    "vFences = [2]\n",
    "maximumSquareArea(m,n,hFences,vFences)"
   ]
  },
  {
   "cell_type": "code",
   "execution_count": 6,
   "id": "807d9b75-4acb-4de5-842f-73b16a2f2017",
   "metadata": {
    "tags": []
   },
   "outputs": [
    {
     "name": "stdout",
     "output_type": "stream",
     "text": [
      "{1: 4, 2: 4}\n"
     ]
    }
   ],
   "source": [
    "dicti = {}\n",
    "dicti[1]=4\n",
    "dicti[2]=4\n",
    "dicti[1]=4\n",
    "print(dicti)"
   ]
  },
  {
   "cell_type": "code",
   "execution_count": 29,
   "id": "9b4334ed-2f60-4c3e-8bdd-e92590e16c6d",
   "metadata": {
    "tags": []
   },
   "outputs": [],
   "source": [
    "from typing import List\n",
    "def maximizeSquareArea(m: int, n: int, hFences: List[int], vFences: List[int]) -> int:\n",
    "        hFences.sort()\n",
    "        vFences.sort()\n",
    "        cnt=set()\n",
    "        hFences = [1]+hFences+[m]\n",
    "        vFences = [1]+vFences+[n]\n",
    "        n_hFences = len(hFences)\n",
    "        n_vFences = len(vFences)\n",
    "        dist=-1\n",
    "        mod = 10**9+7\n",
    "        for i in range(n_hFences):\n",
    "            for j in range(i+1, n_hFences):\n",
    "                horizontal_distance = hFences[j]-hFences[i]\n",
    "                print(horizontal_distance)\n",
    "                cnt.add(hFences[j]-hFences[i])\n",
    "        print(cnt)\n",
    "        for i in range(n_vFences):\n",
    "            for j in range(i+1, n_vFences):\n",
    "                vertical_distance = vFences[j]-vFences[i]\n",
    "                print(vertical_distance)\n",
    "                if vertical_distance in cnt:\n",
    "                    print(\"entered\")\n",
    "                    dist = max(dist, vertical_distance)\n",
    "        if dist == -1:\n",
    "            return dist\n",
    "        else:\n",
    "            return (dist*dist)%mod "
   ]
  },
  {
   "cell_type": "code",
   "execution_count": 30,
   "id": "b21cca4d-6788-4f63-878d-afe6c4a22551",
   "metadata": {
    "tags": []
   },
   "outputs": [
    {
     "name": "stdout",
     "output_type": "stream",
     "text": [
      "1\n",
      "2\n",
      "3\n",
      "1\n",
      "2\n",
      "1\n",
      "{1, 2, 3}\n",
      "1\n",
      "entered\n",
      "2\n",
      "entered\n",
      "1\n",
      "entered\n"
     ]
    },
    {
     "data": {
      "text/plain": [
       "4"
      ]
     },
     "execution_count": 30,
     "metadata": {},
     "output_type": "execute_result"
    }
   ],
   "source": [
    "m=4\n",
    "n=3\n",
    "hFences = [2,3]\n",
    "vFences = [2]\n",
    "maximizeSquareArea(m,n,hFences,vFences)"
   ]
  },
  {
   "cell_type": "code",
   "execution_count": 31,
   "id": "87a7f360-8e6b-4cba-8ac6-1ee5f6ca6d12",
   "metadata": {
    "tags": []
   },
   "outputs": [
    {
     "data": {
      "text/plain": [
       "6"
      ]
     },
     "execution_count": 31,
     "metadata": {},
     "output_type": "execute_result"
    }
   ],
   "source": [
    "int(\"06\")"
   ]
  },
  {
   "cell_type": "code",
   "execution_count": 38,
   "id": "70688ba2-b65d-417b-acae-c0212bd81eef",
   "metadata": {
    "tags": []
   },
   "outputs": [
    {
     "ename": "TypeError",
     "evalue": "ord() expected a character, but string of length 2 found",
     "output_type": "error",
     "traceback": [
      "\u001b[1;31m---------------------------------------------------------------------------\u001b[0m",
      "\u001b[1;31mTypeError\u001b[0m                                 Traceback (most recent call last)",
      "Cell \u001b[1;32mIn[38], line 1\u001b[0m\n\u001b[1;32m----> 1\u001b[0m \u001b[38;5;28mord\u001b[39m(\u001b[38;5;124m'\u001b[39m\u001b[38;5;124m05\u001b[39m\u001b[38;5;124m'\u001b[39m)\u001b[38;5;241m-\u001b[39m\u001b[38;5;28mord\u001b[39m(\u001b[38;5;124m'\u001b[39m\u001b[38;5;124m0\u001b[39m\u001b[38;5;124m'\u001b[39m)\n",
      "\u001b[1;31mTypeError\u001b[0m: ord() expected a character, but string of length 2 found"
     ]
    }
   ],
   "source": [
    "ord('05')-ord('0')"
   ]
  },
  {
   "cell_type": "code",
   "execution_count": null,
   "id": "89df3089-8b50-4ead-a839-59f7548d20a0",
   "metadata": {},
   "outputs": [],
   "source": []
  }
 ],
 "metadata": {
  "kernelspec": {
   "display_name": "Python 3 (ipykernel)",
   "language": "python",
   "name": "python3"
  },
  "language_info": {
   "codemirror_mode": {
    "name": "ipython",
    "version": 3
   },
   "file_extension": ".py",
   "mimetype": "text/x-python",
   "name": "python",
   "nbconvert_exporter": "python",
   "pygments_lexer": "ipython3",
   "version": "3.11.5"
  }
 },
 "nbformat": 4,
 "nbformat_minor": 5
}
