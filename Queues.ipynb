{
 "cells": [
  {
   "cell_type": "markdown",
   "id": "4e81b0c3-114c-43a5-ac5e-78f418b6908d",
   "metadata": {},
   "source": [
    "## Queue implementation using Arrays"
   ]
  },
  {
   "cell_type": "code",
   "execution_count": 9,
   "id": "b44810a0-d776-42f6-9bac-0af2e8d65ff9",
   "metadata": {
    "tags": []
   },
   "outputs": [],
   "source": [
    "class queueUsingArrays:\n",
    "    def __init__(self):\n",
    "        self.__arr=[]\n",
    "        self.__count=0\n",
    "        self.__front=0\n",
    "    def enqueue(self, data):\n",
    "        self.__arr.append(data)\n",
    "        self.__count+=1\n",
    "    def dequeue(self):\n",
    "        if self.__count==0:\n",
    "            return -1\n",
    "        element = self.__arr[self.__front]\n",
    "        self.__front+=1\n",
    "        self.__count-=1\n",
    "        return element\n",
    "    def size(self):\n",
    "        return self.__count\n",
    "    def isEmpty(self):\n",
    "        return self.size()==0\n",
    "    def front(self):\n",
    "        return self._arr[self.__front]"
   ]
  },
  {
   "cell_type": "code",
   "execution_count": 13,
   "id": "dce01164-0cdf-42b7-a570-cbb59d15789e",
   "metadata": {
    "tags": []
   },
   "outputs": [],
   "source": [
    "q = queueUsingArrays()\n",
    "q.enqueue(2)\n",
    "q.enqueue(4)\n",
    "q.enqueue(5)\n",
    "q.enqueue(9)"
   ]
  },
  {
   "cell_type": "code",
   "execution_count": 14,
   "id": "55bb553a-4fb9-4b32-9ed2-c901b70b2000",
   "metadata": {
    "tags": []
   },
   "outputs": [
    {
     "name": "stdout",
     "output_type": "stream",
     "text": [
      "2\n",
      "4\n",
      "5\n",
      "9\n",
      "-1\n"
     ]
    }
   ],
   "source": [
    "for i in range(q.size()):\n",
    "    print(q.dequeue())\n",
    "\n",
    "print(q.dequeue())"
   ]
  },
  {
   "cell_type": "code",
   "execution_count": 38,
   "id": "173a73f6-e74a-43f0-9e36-0cd993e254c8",
   "metadata": {
    "tags": []
   },
   "outputs": [],
   "source": [
    "class Node:\n",
    "    def __init__(self,data):\n",
    "        self.next=None\n",
    "        self.data=data\n",
    "class queueUsingLL:\n",
    "    def __init__(self):\n",
    "        self.__head = None\n",
    "        self.__tail = None\n",
    "        self.__count=0\n",
    "    def enqueue(self, data):\n",
    "        newNode = Node(data)\n",
    "        if self.__head == None:\n",
    "            self.__head=newNode\n",
    "        else:\n",
    "            self.__tail.next=newNode\n",
    "        self.__tail=newNode\n",
    "        self.__count+=1\n",
    "        print(str(data)+\" inserted\")\n",
    "    def dequeue(self):\n",
    "        if self.__head==None:\n",
    "            print(\"Hey your queue is empty!!\")\n",
    "            return\n",
    "        element = self.__head.data\n",
    "        self.__head=self.__head.next\n",
    "        self.__count-=1\n",
    "        return element\n",
    "    def size(self):\n",
    "        return self.__count\n",
    "    def isEmpty(self):\n",
    "        return self.size()==0\n",
    "    def front(self):\n",
    "        if self.__head == None:\n",
    "            print(\"Hey! queue is empty!!\")\n",
    "            return\n",
    "        data = self.__head.data\n",
    "        return data"
   ]
  },
  {
   "cell_type": "code",
   "execution_count": 39,
   "id": "a11d1b02-168e-40d3-9912-61b5a40719dc",
   "metadata": {
    "tags": []
   },
   "outputs": [
    {
     "name": "stdout",
     "output_type": "stream",
     "text": [
      "2 inserted\n",
      "4 inserted\n",
      "5 inserted\n",
      "9 inserted\n",
      "2\n",
      "4\n",
      "5\n",
      "9\n",
      "Hey! queue is empty!!\n",
      "None\n"
     ]
    }
   ],
   "source": [
    "q = queueUsingLL()\n",
    "q.enqueue(2)\n",
    "q.enqueue(4)\n",
    "q.enqueue(5)\n",
    "q.enqueue(9)\n",
    "while q.isEmpty()==False:\n",
    "    print(q.dequeue())\n",
    "\n",
    "print(q.front())"
   ]
  },
  {
   "cell_type": "markdown",
   "id": "2f954b04-aeda-44bd-a529-d0f83e638e1e",
   "metadata": {},
   "source": [
    "## Queue Implementation using 2 Stacks"
   ]
  },
  {
   "cell_type": "code",
   "execution_count": 37,
   "id": "3791d0d7-d30c-4abe-a421-67e54a835a4f",
   "metadata": {},
   "outputs": [],
   "source": [
    "class QueueUsingStacks:\n",
    "    def __init__(self):\n",
    "        self.stack1=[]\n",
    "        self.stack2=[]\n",
    "        self.count=0\n",
    "    def enqueue(self,ele):\n",
    "        stack2_count=0\n",
    "        while(self.count!=0):\n",
    "            top=self.stack1.pop()\n",
    "            self.stack2.append(top)\n",
    "            stack2_count+=1\n",
    "            self.count-=1\n",
    "        self.stack1.append(ele)\n",
    "        self.count+=1\n",
    "        while(stack2_count!=0):\n",
    "            top=self.stack2.pop()\n",
    "            self.stack1.append(top)\n",
    "            stack2_count-=1\n",
    "            self.count+=1\n",
    "            \n",
    "    def dequeue(self):\n",
    "        ele = self.stack1.pop()\n",
    "        if ele:\n",
    "            self.count-=1\n",
    "            return ele\n",
    "        else:\n",
    "            return -1\n",
    "    def size(self):\n",
    "        return self.count\n",
    "    def isEmpty(self):\n",
    "        return self.count==0\n",
    "    def front(self):\n",
    "        if not self.count == 0:\n",
    "            return self.stack1[0]\n",
    "        else:\n",
    "            return -1"
   ]
  },
  {
   "cell_type": "code",
   "execution_count": 38,
   "id": "b168b691-6c2b-4736-94de-7cd22a6bf1f2",
   "metadata": {
    "tags": []
   },
   "outputs": [
    {
     "name": "stdout",
     "output_type": "stream",
     "text": [
      "4\n",
      "2\n",
      "10\n",
      "7\n",
      "11\n",
      "-1\n"
     ]
    }
   ],
   "source": [
    "que = QueueUsingStacks()\n",
    "que.enqueue(2)\n",
    "que.enqueue(10)\n",
    "que.enqueue(7)\n",
    "que.enqueue(11)\n",
    "print(que.size())\n",
    "while not que.isEmpty():\n",
    "    print(que.dequeue())\n",
    "print(que.front())"
   ]
  },
  {
   "cell_type": "code",
   "execution_count": null,
   "id": "d0a71658-52a9-4ec9-aa04-27b7d1ea793c",
   "metadata": {},
   "outputs": [],
   "source": []
  },
  {
   "cell_type": "code",
   "execution_count": 3,
   "id": "0c713e13-c8db-424a-88ae-9557fdadb24d",
   "metadata": {
    "tags": []
   },
   "outputs": [],
   "source": [
    "arr1 = []\n",
    "arr1.append(2)\n",
    "arr1.append(30)\n",
    "arr1.append(10)"
   ]
  },
  {
   "cell_type": "code",
   "execution_count": null,
   "id": "7b92c364-7879-4852-a901-abcddd847684",
   "metadata": {},
   "outputs": [],
   "source": []
  },
  {
   "cell_type": "code",
   "execution_count": 4,
   "id": "41f9e5ad-1308-4aa5-b16b-260459d92a7f",
   "metadata": {
    "tags": []
   },
   "outputs": [
    {
     "data": {
      "text/plain": [
       "10"
      ]
     },
     "execution_count": 4,
     "metadata": {},
     "output_type": "execute_result"
    }
   ],
   "source": [
    "arr1.pop()"
   ]
  },
  {
   "cell_type": "code",
   "execution_count": 5,
   "id": "b8adf9b6-c442-454d-9f4a-c00127c639e9",
   "metadata": {
    "tags": []
   },
   "outputs": [
    {
     "data": {
      "text/plain": [
       "[2, 30]"
      ]
     },
     "execution_count": 5,
     "metadata": {},
     "output_type": "execute_result"
    }
   ],
   "source": [
    "arr1"
   ]
  },
  {
   "cell_type": "code",
   "execution_count": 43,
   "id": "1208437d-bb05-4226-a583-f65a3166f660",
   "metadata": {
    "tags": []
   },
   "outputs": [],
   "source": [
    "import queue\n",
    "\n",
    "# setrecursionlimit(10 ** 6)\n",
    "\n",
    "def reverseQueue(inputQueue) :\n",
    "    # Your code goes here\n",
    "    if inputQueue.qsize()==1:\n",
    "        return inputQueue\n",
    "    \n",
    "    front = inputQueue.get()\n",
    "    smallAns = reverseQueue(inputQueue)\n",
    "    smallAns.put(front)\n",
    "    return smallAns"
   ]
  },
  {
   "cell_type": "code",
   "execution_count": 44,
   "id": "5c3c50ff-2eed-4b3b-a23b-c5dcbf1ddc89",
   "metadata": {
    "tags": []
   },
   "outputs": [],
   "source": [
    "q=queue.Queue()\n",
    "q.put(4)\n",
    "q.put(9)\n",
    "q.put(11)\n",
    "q.put(5)"
   ]
  },
  {
   "cell_type": "code",
   "execution_count": 45,
   "id": "9acba045-eb56-4aba-b78e-1f48cfa74a58",
   "metadata": {
    "tags": []
   },
   "outputs": [],
   "source": [
    "rev = reverseQueue(q)"
   ]
  },
  {
   "cell_type": "code",
   "execution_count": 47,
   "id": "67347a4b-0a94-4fe3-bbd2-133d5e8a6b0e",
   "metadata": {
    "tags": []
   },
   "outputs": [
    {
     "name": "stdout",
     "output_type": "stream",
     "text": [
      "5\n",
      "11\n",
      "9\n",
      "4\n"
     ]
    }
   ],
   "source": [
    "while(rev.qsize()>0):\n",
    "    print(rev.get())"
   ]
  },
  {
   "cell_type": "code",
   "execution_count": null,
   "id": "02ff014a-2a42-42b5-8f1d-81c01f468722",
   "metadata": {},
   "outputs": [],
   "source": []
  }
 ],
 "metadata": {
  "kernelspec": {
   "display_name": "Python 3 (ipykernel)",
   "language": "python",
   "name": "python3"
  },
  "language_info": {
   "codemirror_mode": {
    "name": "ipython",
    "version": 3
   },
   "file_extension": ".py",
   "mimetype": "text/x-python",
   "name": "python",
   "nbconvert_exporter": "python",
   "pygments_lexer": "ipython3",
   "version": "3.11.5"
  }
 },
 "nbformat": 4,
 "nbformat_minor": 5
}
