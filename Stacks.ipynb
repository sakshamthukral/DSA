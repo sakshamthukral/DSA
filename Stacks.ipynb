{
 "cells": [
  {
   "cell_type": "code",
   "execution_count": 2,
   "id": "ed918da9-dbdd-4fb2-bd30-21c64d44f482",
   "metadata": {
    "tags": []
   },
   "outputs": [],
   "source": [
    "class Stack:\n",
    "    def __init__(self):\n",
    "        self.__data=[]\n",
    "    def push(self, ele):\n",
    "        self.__data.append(ele)\n",
    "    def pop(self):\n",
    "        if (len(self.__data)==0):\n",
    "            print(\"Hey! Stack is empty!!\")\n",
    "        self.__data.pop()\n",
    "    def top(self):\n",
    "        if (len(self.__data)==0):\n",
    "            print(\"Hey! Stack is empty!!\")\n",
    "        return self.__data[len(self.__data)-1]\n",
    "    def size(self):\n",
    "        return len(self.__data)\n",
    "    def isEmpty(self):\n",
    "        return self.size() == 0"
   ]
  },
  {
   "cell_type": "code",
   "execution_count": 8,
   "id": "3dfec8bf-b9de-4bcb-be2e-d0014f2e81fd",
   "metadata": {
    "tags": []
   },
   "outputs": [],
   "source": [
    "s=Stack()\n",
    "s.push(10)\n",
    "s.push(40)\n",
    "s.push(6)"
   ]
  },
  {
   "cell_type": "code",
   "execution_count": 9,
   "id": "8b3a972c-1e9f-4f9c-b082-094af18d77c1",
   "metadata": {
    "tags": []
   },
   "outputs": [
    {
     "name": "stdout",
     "output_type": "stream",
     "text": [
      "6\n",
      "40\n",
      "10\n"
     ]
    }
   ],
   "source": [
    "while not s.isEmpty():\n",
    "    print(s.top())\n",
    "    s.pop()"
   ]
  },
  {
   "cell_type": "code",
   "execution_count": 43,
   "id": "b7d20531-2ffc-4469-9705-f430f735cfc0",
   "metadata": {
    "tags": []
   },
   "outputs": [],
   "source": [
    "class Node:\n",
    "    def __init__(self,data):\n",
    "        self.next=None\n",
    "        self.data=data\n",
    "\n",
    "class StackLL:\n",
    "    def __init__(self):\n",
    "        self.__head=None\n",
    "        self.__count=0\n",
    "        \n",
    "    def push(self,ele):\n",
    "        n=Node(ele)\n",
    "        n.next=self.__head\n",
    "        self.__head=n\n",
    "        self.__count+=1\n",
    "    def pop(self):\n",
    "        if (self.isEmpty()):\n",
    "            print(\"Stack is empty!!\")\n",
    "        else:\n",
    "            data = self.__head.data\n",
    "            self.__head=self.__head.next\n",
    "            self.__count-=1\n",
    "            return data\n",
    "    def top(self):\n",
    "        if (self.isEmpty):\n",
    "            print(\"Stack is empty!!\")\n",
    "            return\n",
    "        else:\n",
    "            data = self.__head\n",
    "            return data\n",
    "    def size(self):\n",
    "        return self.__count\n",
    "    def isEmpty(self):\n",
    "        return self.size()==0"
   ]
  },
  {
   "cell_type": "code",
   "execution_count": 44,
   "id": "1566e45d-60c0-4c94-9600-fa4b35525869",
   "metadata": {
    "tags": []
   },
   "outputs": [],
   "source": [
    "s=StackLL()\n",
    "s.push(10)\n",
    "s.push(40)\n",
    "s.push(6)"
   ]
  },
  {
   "cell_type": "code",
   "execution_count": 45,
   "id": "17623ae0-05ae-4a79-be83-18913e07ef3d",
   "metadata": {
    "tags": []
   },
   "outputs": [
    {
     "name": "stdout",
     "output_type": "stream",
     "text": [
      "6\n",
      "40\n",
      "10\n",
      "Stack is empty!!\n"
     ]
    }
   ],
   "source": [
    "while not s.isEmpty():\n",
    "    print(s.pop())\n",
    "s.top()"
   ]
  },
  {
   "cell_type": "markdown",
   "id": "03c22e00-0911-4a78-b5e6-d78452c461df",
   "metadata": {},
   "source": [
    "### Balanced Parenthesis"
   ]
  },
  {
   "cell_type": "code",
   "execution_count": 13,
   "id": "72672d75-c82d-4824-a006-2ea6f7fa6f5d",
   "metadata": {
    "tags": []
   },
   "outputs": [],
   "source": [
    "class Stack:\n",
    "    def __init__(self):\n",
    "        self.__arr=[]\n",
    "    def push(self,data):\n",
    "        self.__arr.append(data)\n",
    "    def pop(self):\n",
    "        if self.size()==0:\n",
    "            print(\"Stack is empty\")\n",
    "        else:\n",
    "            self.__arr.pop()\n",
    "    def top(self):\n",
    "        if self.size()==0:\n",
    "            print(\"Stack is Empty\")\n",
    "            return None\n",
    "        return self.__arr[len(self.__arr)-1]\n",
    "    def size(self):\n",
    "        return len(self.__arr)\n",
    "    def isEmpty(self):\n",
    "        return self.size()==0\n",
    "\n",
    "def checkBalanceParenthesis(str_literals,s):\n",
    "    i=0\n",
    "    while(i<len(str_literals)):\n",
    "        if (str_literals[i]==\"[\") or (str_literals[i]==\"(\") or (str_literals[i]==\"{\"):\n",
    "          s.push(str_literals[i])\n",
    "        elif(str_literals[i]==\"]\"):\n",
    "            if s.top()==\"[\":\n",
    "                s.pop()\n",
    "            else:\n",
    "                return False\n",
    "        elif(str_literals[i]==\")\"):\n",
    "            if  s.top()==\"(\":\n",
    "                s.pop()\n",
    "            else:\n",
    "                return False\n",
    "        elif(str_literals[i]==\"}\"):\n",
    "            if s.top()==\"{\":\n",
    "                s.pop()\n",
    "            else:\n",
    "                return False\n",
    "        i+=1\n",
    "    return s.isEmpty()  \n",
    "        \n",
    "        "
   ]
  },
  {
   "cell_type": "code",
   "execution_count": 16,
   "id": "9f8c35e2-1cd2-45f3-896c-24e506838625",
   "metadata": {
    "tags": []
   },
   "outputs": [
    {
     "name": "stdout",
     "output_type": "stream",
     "text": [
      "Not Balanced\n"
     ]
    }
   ],
   "source": [
    "s=Stack()\n",
    "str_literals=\"{(a+b)]c[}\"\n",
    "print(\"Balanced\" if checkBalanceParenthesis(str_literals,s) else \"Not Balanced\")"
   ]
  },
  {
   "cell_type": "code",
   "execution_count": 19,
   "id": "0162d0ec-1abf-484d-8b12-44e0091d174a",
   "metadata": {
    "tags": []
   },
   "outputs": [
    {
     "name": "stdout",
     "output_type": "stream",
     "text": [
      "true\n"
     ]
    }
   ],
   "source": [
    "from sys import stdin\n",
    "class Stack:\n",
    "    def __init__(self):\n",
    "        self.__arr=[]\n",
    "    def push(self,data):\n",
    "        self.__arr.append(data)\n",
    "    def pop(self):\n",
    "        if self.size()==0:\n",
    "            print(\"Stack is empty\")\n",
    "        else:\n",
    "            self.__arr.pop()\n",
    "    def top(self):\n",
    "        if self.size()==0:\n",
    "            print(\"Stack is Empty\")\n",
    "            return None\n",
    "        return self.__arr[len(self.__arr)-1]\n",
    "    def size(self):\n",
    "        return len(self.__arr)\n",
    "    def isEmpty(self):\n",
    "        return self.size()==0\n",
    "\n",
    "def isBalanced(str_literals,s) :\n",
    "    #Your code goes here\n",
    "    i=0\n",
    "    while(i<len(str_literals)):\n",
    "        if ((str_literals[i]==\"[\") or (str_literals[i]==\"(\") or (str_literals[i]==\"{\")):\n",
    "          s.push(str_literals[i])\n",
    "        elif(str_literals[i]==\"]\"):\n",
    "            if s.top()==\"[\":\n",
    "                s.pop()\n",
    "            else:\n",
    "                return False\n",
    "        elif(str_literals[i]==\")\"):\n",
    "            if  s.top()==\"(\":\n",
    "                s.pop()\n",
    "            else:\n",
    "                return False\n",
    "        elif(str_literals[i]==\"}\"):\n",
    "            if s.top()==\"{\":\n",
    "                s.pop()\n",
    "            else:\n",
    "                return False\n",
    "        i+=1\n",
    "    return s.isEmpty()\n",
    "\n",
    "\n",
    "#main\n",
    "expression = stdin.readline().strip()\n",
    "s=Stack()\n",
    "if isBalanced(expression,s) :\n",
    "\tprint(\"true\")\n",
    "\n",
    "else :\n",
    "\tprint(\"false\")"
   ]
  },
  {
   "cell_type": "code",
   "execution_count": 3,
   "id": "2eb655bf-c898-457c-ba9a-8841e8ba640a",
   "metadata": {
    "tags": []
   },
   "outputs": [
    {
     "name": "stdout",
     "output_type": "stream",
     "text": [
      "true\n"
     ]
    }
   ],
   "source": [
    "from sys import stdin\n",
    "class Stack:\n",
    "    def __init__(self):\n",
    "        self.__arr=[]\n",
    "    def push(self,data):\n",
    "        self.__arr.append(data)\n",
    "    def pop(self):\n",
    "        if self.size()==0:\n",
    "            return None\n",
    "        else:\n",
    "            self.__arr.pop()\n",
    "    def top(self):\n",
    "        if self.size()==0:\n",
    "            return None\n",
    "        return self.__arr[len(self.__arr)-1]\n",
    "    def size(self):\n",
    "        return len(self.__arr)\n",
    "    def isEmpty(self):\n",
    "        return self.size()==0\n",
    "\n",
    "def isBalanced(str_literals,s) :\n",
    "    #Your code goes here\n",
    "    i=0\n",
    "    while(i<len(str_literals)):\n",
    "        if (str_literals[i]==\"(\"):\n",
    "          s.push(str_literals[i])\n",
    "        elif(str_literals[i]==\")\"):\n",
    "            if  s.top()==\"(\":\n",
    "                s.pop()\n",
    "            else:\n",
    "                return False\n",
    "        i+=1\n",
    "    return s.isEmpty()\n",
    "\n",
    "\n",
    "#main\n",
    "expression = stdin.readline().strip()\n",
    "s=Stack()\n",
    "if isBalanced(expression,s) :\n",
    "\tprint(\"true\")\n",
    "\n",
    "else :\n",
    "\tprint(\"false\")"
   ]
  },
  {
   "cell_type": "code",
   "execution_count": 6,
   "id": "384cba18-07a4-4161-bfbe-18140d6f2cb0",
   "metadata": {},
   "outputs": [],
   "source": [
    "def checkRedundant(expression):\n",
    "    s=Stack()\n",
    "    i=0\n",
    "    while(i<len(expression)):\n",
    "        if expression[i]!=\")\":\n",
    "            s.push(expression[i])\n",
    "            i+=1        \n",
    "        else:\n",
    "            count=0\n",
    "            while(s.top()!=\"(\"):\n",
    "                if s.isEmpty():\n",
    "                    return False\n",
    "                s.pop()\n",
    "                count+=1\n",
    "            s.pop()\n",
    "            i+=1\n",
    "            if count==0:\n",
    "                return True\n",
    "          \n",
    "    return False"
   ]
  },
  {
   "cell_type": "code",
   "execution_count": 9,
   "id": "041c59c0-29bc-48dd-bdd7-5e1c57cb3400",
   "metadata": {
    "tags": []
   },
   "outputs": [
    {
     "data": {
      "text/plain": [
       "False"
      ]
     },
     "execution_count": 9,
     "metadata": {},
     "output_type": "execute_result"
    }
   ],
   "source": [
    "expression=\"((a+b)+c)\"\n",
    "checkRedundant(expression)"
   ]
  },
  {
   "cell_type": "code",
   "execution_count": null,
   "id": "9f726001-217b-4fa7-9ed9-b9ca2bede05c",
   "metadata": {},
   "outputs": [],
   "source": [
    "\n",
    "from sys import stdin\n",
    "class Stack:\n",
    "    def __init__(self):\n",
    "        self.__arr=[]\n",
    "    def push(self,data):\n",
    "        self.__arr.append(data)\n",
    "    def pop(self):\n",
    "        if self.size()==0:\n",
    "            return None\n",
    "        else:\n",
    "            self.__arr.pop()\n",
    "    def top(self):\n",
    "        if self.size()==0:\n",
    "            return None\n",
    "        return self.__arr[len(self.__arr)-1]\n",
    "    def size(self):\n",
    "        return len(self.__arr)\n",
    "    def isEmpty(self):\n",
    "        return self.size()==0\n",
    "def checkRedundantBrackets(expression) :\n",
    "    # Your code goes here\n",
    "    s=Stack()\n",
    "    i=0\n",
    "    while(i<len(expression)):\n",
    "        if expression[i]!=\")\":\n",
    "            s.push(expression[i])\n",
    "            i+=1        \n",
    "        else:\n",
    "            count=0\n",
    "            while(s.top()!=\"(\"):\n",
    "                if s.isEmpty():\n",
    "                    return False\n",
    "                s.pop()\n",
    "                count+=1\n",
    "            s.pop()\n",
    "            i+=1\n",
    "            if count==0:\n",
    "                return True\n",
    "          \n",
    "    return False\n",
    "\n",
    "#main\n",
    "expression = stdin.readline().strip()\n",
    "\n",
    "if checkRedundantBrackets(expression) :\n",
    "\tprint(\"true\")\n",
    "\n",
    "else :\n",
    "\tprint(\"false\")\n"
   ]
  },
  {
   "cell_type": "code",
   "execution_count": null,
   "id": "ca3d17bc-2f75-46d6-85dd-182534927c10",
   "metadata": {},
   "outputs": [],
   "source": [
    "from sys import stdin\n",
    "def checkRedundantBrackets(expression) :\n",
    "    # Your code goes here\n",
    "    s=[]\n",
    "    i=0\n",
    "    index=0\n",
    "    while(i<len(expression)):\n",
    "        if expression[i]!=\")\":\n",
    "            s.append(expression[i])\n",
    "            i+=1\n",
    "            index+=1        \n",
    "        else:\n",
    "            count=0\n",
    "            while(s[index]!=\"(\"):\n",
    "                if s.isEmpty():\n",
    "                    return False\n",
    "                s.pop()\n",
    "                count+=1\n",
    "                index-=1\n",
    "            s.pop()\n",
    "            i+=1\n",
    "            index-=1\n",
    "            if count<=1:\n",
    "                return True\n",
    "          \n",
    "    return False\n",
    "\n",
    "#main\n",
    "expression = stdin.readline().strip()\n",
    "\n",
    "if checkRedundantBrackets(expression) :\n",
    "    print(\"true\")\n",
    "\n",
    "else :\n",
    "    print(\"false\")\n"
   ]
  },
  {
   "cell_type": "code",
   "execution_count": 10,
   "id": "b366e4a8-cce7-49e2-90cf-4ce09d0a9ec8",
   "metadata": {
    "tags": []
   },
   "outputs": [],
   "source": [
    "ans=5*[0]\n",
    "ans[0]=1"
   ]
  },
  {
   "cell_type": "code",
   "execution_count": 11,
   "id": "8ce1cd99-0576-430f-ad58-5d604831d49c",
   "metadata": {
    "tags": []
   },
   "outputs": [
    {
     "name": "stdout",
     "output_type": "stream",
     "text": [
      "[1, 0, 0, 0, 0]\n"
     ]
    }
   ],
   "source": [
    "print(ans)"
   ]
  },
  {
   "cell_type": "code",
   "execution_count": 12,
   "id": "06bb5eb8-b41d-4755-9214-658dbb15927e",
   "metadata": {
    "tags": []
   },
   "outputs": [],
   "source": [
    "def countBracketReversals(expression):\n",
    "    stack=[]\n",
    "    reversalCount=0\n",
    "    if (len(expression)%2)!=0:\n",
    "        return -1\n",
    "    for i in expression:\n",
    "        if i==\"{\":\n",
    "            stack.append(i)\n",
    "        elif i==\"}\":\n",
    "            if stack[-1]==\"{\":\n",
    "                stack.pop()\n",
    "            else:\n",
    "                stack.append(i)\n",
    "    while(len(stack)>0):\n",
    "        c1=stack[-1]\n",
    "        stack.pop()\n",
    "        c2=stack[-1]\n",
    "        stack.pop()\n",
    "        \n",
    "        if c1==c2:\n",
    "            reversalCount+=1\n",
    "        else:\n",
    "            reversalCount+=2\n",
    "    return reversalCount"
   ]
  },
  {
   "cell_type": "code",
   "execution_count": 15,
   "id": "7e48035a-18d5-4ba9-a585-618e5a1f38ae",
   "metadata": {
    "tags": []
   },
   "outputs": [
    {
     "data": {
      "text/plain": [
       "2"
      ]
     },
     "execution_count": 15,
     "metadata": {},
     "output_type": "execute_result"
    }
   ],
   "source": [
    "countBracketReversals(\"{{{{\")"
   ]
  },
  {
   "cell_type": "code",
   "execution_count": null,
   "id": "8df5382c-f096-43f6-9c7f-00a15eefcb9c",
   "metadata": {},
   "outputs": [],
   "source": []
  }
 ],
 "metadata": {
  "kernelspec": {
   "display_name": "Python 3 (ipykernel)",
   "language": "python",
   "name": "python3"
  },
  "language_info": {
   "codemirror_mode": {
    "name": "ipython",
    "version": 3
   },
   "file_extension": ".py",
   "mimetype": "text/x-python",
   "name": "python",
   "nbconvert_exporter": "python",
   "pygments_lexer": "ipython3",
   "version": "3.11.5"
  }
 },
 "nbformat": 4,
 "nbformat_minor": 5
}
