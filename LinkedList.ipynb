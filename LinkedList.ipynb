{
 "cells": [
  {
   "cell_type": "code",
   "execution_count": 1,
   "id": "ec85925d-8e93-4c39-abbb-5c4258f73880",
   "metadata": {
    "tags": []
   },
   "outputs": [],
   "source": [
    "class Node:\n",
    "    def __init__(self,data):\n",
    "        self.next=None\n",
    "        self.data=data\n",
    "        \n",
    "def printLL(head):\n",
    "    while head!=None:\n",
    "        print(head.data,end=\"->\")\n",
    "        head=head.next\n",
    "    print(\"None\")\n",
    "    \n",
    "def takeInputLL():\n",
    "    inp=[int(ele) for ele in input().split()]\n",
    "    head=None\n",
    "    tail=None\n",
    "    for currData in inp:\n",
    "        if currData==-1:\n",
    "            break\n",
    "        newNode = Node(currData)\n",
    "        if head==None:\n",
    "            head=newNode\n",
    "            tail=newNode\n",
    "        else:\n",
    "            tail.next=newNode\n",
    "            tail=tail.next\n",
    "    return head"
   ]
  },
  {
   "cell_type": "code",
   "execution_count": 4,
   "id": "909ea2b9-913f-4f35-bd5c-ec91caf91d33",
   "metadata": {
    "tags": []
   },
   "outputs": [
    {
     "name": "stdin",
     "output_type": "stream",
     "text": [
      " 1 2 3 4 5 -1\n"
     ]
    },
    {
     "name": "stdout",
     "output_type": "stream",
     "text": [
      "1->2->3->4->5->None\n"
     ]
    }
   ],
   "source": [
    "head = takeInputLL()\n",
    "printLL(head)"
   ]
  },
  {
   "cell_type": "code",
   "execution_count": 13,
   "id": "0a2e5c42-680f-4bb0-913f-43c4a5ca65ee",
   "metadata": {
    "tags": []
   },
   "outputs": [],
   "source": [
    "def swapNodes(head, i, j):\n",
    "    if i==j:\n",
    "        return head\n",
    "    prev=None\n",
    "    currNode=head\n",
    "    \n",
    "    prevFirstNode,firstNode,prevSecondNode,secondNode = None, None, None, None\n",
    "    \n",
    "    pos=0\n",
    "    \n",
    "    while currNode:\n",
    "        if pos==i:\n",
    "            prevFirstNode=prev\n",
    "            firstNode=currNode\n",
    "        elif pos==j:\n",
    "            prevSecondNode=prev\n",
    "            secondNode=currNode\n",
    "        \n",
    "        prev=currNode\n",
    "        currNode=currNode.next\n",
    "        pos+=1\n",
    "    \n",
    "    if prevFirstNode!=None:\n",
    "        prevFirstNode.next=secondNode\n",
    "    else:\n",
    "        head=secondNode\n",
    "    \n",
    "    if prevSecondNode!=None:\n",
    "        prevSecondNode.next=firstNode\n",
    "    else:\n",
    "        head=firstNode\n",
    "        \n",
    "    secondNext = secondNode.next\n",
    "    secondNode.next=firstNode.next\n",
    "    firstNode.next=secondNext\n",
    "    \n",
    "    return head\n",
    "        \n",
    "        \n",
    "        "
   ]
  },
  {
   "cell_type": "code",
   "execution_count": 14,
   "id": "d2a8ceea-9d05-430b-b074-bd16892bbb9e",
   "metadata": {
    "tags": []
   },
   "outputs": [
    {
     "name": "stdin",
     "output_type": "stream",
     "text": [
      " 1 2 3 4 5 6 7 8 9 -1\n",
      " 2\n",
      " 5\n"
     ]
    },
    {
     "name": "stdout",
     "output_type": "stream",
     "text": [
      "1->2->3->4->5->6->7->8->9->None\n",
      "1->2->6->4->5->3->7->8->9->None\n"
     ]
    }
   ],
   "source": [
    "head = takeInputLL()\n",
    "i=int(input())\n",
    "j=int(input())\n",
    "printLL(head)\n",
    "head=swapNodes(head, i,j)\n",
    "printLL(head)"
   ]
  },
  {
   "cell_type": "code",
   "execution_count": 11,
   "id": "45afb177-9167-4042-ad97-df7ed68e979b",
   "metadata": {
    "tags": []
   },
   "outputs": [],
   "source": [
    "def reverseLL(head):\n",
    "    prev=None\n",
    "    curr=head\n",
    "    tail=head\n",
    "    \n",
    "    while(curr!=None):\n",
    "        nextNode = curr.next\n",
    "        curr.next=prev\n",
    "        prev=curr\n",
    "        curr=nextNode\n",
    "        head=prev\n",
    "    return head,tail"
   ]
  },
  {
   "cell_type": "code",
   "execution_count": 14,
   "id": "699ac304-cf7c-47ad-adfc-24ed1c3ae440",
   "metadata": {},
   "outputs": [],
   "source": [
    "def kReverse(head,k):\n",
    "    if k==0 or k==1:\n",
    "        return head\n",
    "    current=head\n",
    "    fwd=None\n",
    "    prev=None\n",
    "    count=0\n",
    "    \n",
    "    # Reverse first k nodes of linked list\n",
    "    while(count<k) and (current!=None):\n",
    "        fwd=current.next\n",
    "        current.next=prev\n",
    "        prev=current\n",
    "        current=fwd\n",
    "        count+=1\n",
    "    if fwd!=None:\n",
    "        head.next=kReverse(fwd,k)\n",
    "    return prev"
   ]
  },
  {
   "cell_type": "code",
   "execution_count": 15,
   "id": "625f53ba-7b7a-4240-9535-b60042cb85ce",
   "metadata": {
    "tags": []
   },
   "outputs": [
    {
     "name": "stdin",
     "output_type": "stream",
     "text": [
      " 1 2 3 4 5 6 7 -1\n"
     ]
    },
    {
     "name": "stdout",
     "output_type": "stream",
     "text": [
      "1->2->3->4->5->6->7->None\n",
      "2->1->4->3->6->5->7->None\n"
     ]
    }
   ],
   "source": [
    "head = takeInputLL()\n",
    "printLL(head)\n",
    "kReversedHead=kReverse(head,2)\n",
    "printLL(kReversedHead)"
   ]
  },
  {
   "cell_type": "code",
   "execution_count": 19,
   "id": "be661234-550c-4d17-b1dd-e024b1bfdae7",
   "metadata": {
    "tags": []
   },
   "outputs": [],
   "source": [
    "def swap(head):\n",
    "    prev=None\n",
    "    curr=head\n",
    "    while(curr!=None):\n",
    "        if (curr.data>curr.next.data):\n",
    "            if (prev!=None):\n",
    "                currNext=curr.next\n",
    "                curr.next = curr.next.next\n",
    "                currNext.next=curr\n",
    "                prev.next=currNext\n",
    "            else:\n",
    "                currNext=curr.next\n",
    "                curr.next = curr.next.next\n",
    "                currNext.next=curr\n",
    "                head,prev=currNext\n",
    "                \n",
    "                   \n",
    "        curr=curr.next\n",
    "        prev=prev.next\n",
    "    return head"
   ]
  },
  {
   "cell_type": "code",
   "execution_count": 20,
   "id": "16675dd5-a617-4a82-ae91-1474047b76cf",
   "metadata": {
    "tags": []
   },
   "outputs": [
    {
     "name": "stdin",
     "output_type": "stream",
     "text": [
      " 3 2 1 4 7 6 -1\n"
     ]
    },
    {
     "name": "stdout",
     "output_type": "stream",
     "text": [
      "3->2->1->4->7->6->None\n"
     ]
    },
    {
     "ename": "TypeError",
     "evalue": "cannot unpack non-iterable Node object",
     "output_type": "error",
     "traceback": [
      "\u001b[1;31m---------------------------------------------------------------------------\u001b[0m",
      "\u001b[1;31mTypeError\u001b[0m                                 Traceback (most recent call last)",
      "Cell \u001b[1;32mIn[20], line 3\u001b[0m\n\u001b[0;32m      1\u001b[0m head \u001b[38;5;241m=\u001b[39m takeInputLL()\n\u001b[0;32m      2\u001b[0m printLL(head)\n\u001b[1;32m----> 3\u001b[0m swapHead\u001b[38;5;241m=\u001b[39mswap(head)\n\u001b[0;32m      4\u001b[0m printLL(swapHead)\n",
      "Cell \u001b[1;32mIn[19], line 15\u001b[0m, in \u001b[0;36mswap\u001b[1;34m(head)\u001b[0m\n\u001b[0;32m     13\u001b[0m         curr\u001b[38;5;241m.\u001b[39mnext \u001b[38;5;241m=\u001b[39m curr\u001b[38;5;241m.\u001b[39mnext\u001b[38;5;241m.\u001b[39mnext\n\u001b[0;32m     14\u001b[0m         currNext\u001b[38;5;241m.\u001b[39mnext\u001b[38;5;241m=\u001b[39mcurr\n\u001b[1;32m---> 15\u001b[0m         head,prev\u001b[38;5;241m=\u001b[39mcurrNext\n\u001b[0;32m     18\u001b[0m curr\u001b[38;5;241m=\u001b[39mcurr\u001b[38;5;241m.\u001b[39mnext\n\u001b[0;32m     19\u001b[0m prev\u001b[38;5;241m=\u001b[39mprev\u001b[38;5;241m.\u001b[39mnext\n",
      "\u001b[1;31mTypeError\u001b[0m: cannot unpack non-iterable Node object"
     ]
    }
   ],
   "source": [
    "head = takeInputLL()\n",
    "printLL(head)\n",
    "swapHead=swap(head)\n",
    "printLL(swapHead)"
   ]
  },
  {
   "cell_type": "code",
   "execution_count": 21,
   "id": "cb2e0156-c664-4e42-8278-bebc2873d209",
   "metadata": {
    "tags": []
   },
   "outputs": [
    {
     "name": "stdout",
     "output_type": "stream",
     "text": [
      "hello\n"
     ]
    }
   ],
   "source": [
    "print(\"hello\")"
   ]
  },
  {
   "cell_type": "code",
   "execution_count": 24,
   "id": "1c9f5e2a-be51-431c-8bd4-409fa8c64e50",
   "metadata": {
    "tags": []
   },
   "outputs": [],
   "source": [
    "def lengthLL(head):\n",
    "    l=0\n",
    "    while(head!=None):\n",
    "        l+=1\n",
    "        head=head.next\n",
    "    return l\n",
    "\n",
    "def bubbleSortLL(head):\n",
    "    n=lengthLL(head)\n",
    "    for i in range(n-1):\n",
    "        prev=None\n",
    "        curr=head\n",
    "        # because last i elements will already be sorted\n",
    "        for j in range(n-i-1):\n",
    "            if curr.data<curr.next.data:\n",
    "                prev=curr\n",
    "                curr=curr.next\n",
    "            else:\n",
    "                if prev==None:\n",
    "                    currNext=curr.next\n",
    "                    head=head.next\n",
    "                    curr.next=curr.next.next\n",
    "                    currNext.next=curr\n",
    "                    prev=currNext\n",
    "                    \n",
    "                else:\n",
    "                    currNext=curr.next\n",
    "                    curr.next=curr.next.next\n",
    "                    currNext.next=curr\n",
    "                    prev.next=currNext\n",
    "                    prev=currNext\n",
    "    return head\n",
    "                    \n",
    "                    "
   ]
  },
  {
   "cell_type": "code",
   "execution_count": 25,
   "id": "b09c61d1-6f74-4eb6-97b4-6d93964218b1",
   "metadata": {
    "tags": []
   },
   "outputs": [
    {
     "name": "stdin",
     "output_type": "stream",
     "text": [
      " 4 3 1 5 7 6 9 -1\n"
     ]
    },
    {
     "name": "stdout",
     "output_type": "stream",
     "text": [
      "4->3->1->5->7->6->9->None\n",
      "1->3->4->5->6->7->9->None\n"
     ]
    }
   ],
   "source": [
    "head = takeInputLL()\n",
    "printLL(head)\n",
    "sortedHead=bubbleSortLL(head)\n",
    "printLL(sortedHead)"
   ]
  },
  {
   "cell_type": "code",
   "execution_count": 13,
   "id": "16911268-3f68-4ec4-b0eb-f9fbee1ee893",
   "metadata": {},
   "outputs": [],
   "source": [
    "class node:\n",
    "    def __init__(self, data):\n",
    "        self.data = data\n",
    "        self.next=None\n",
    "\n",
    "def takeInputLL():\n",
    "    elements = [int(ele) for ele in input().split()]\n",
    "    head=None\n",
    "    tail=None\n",
    "    for currData in elements:\n",
    "        if currData==-1:\n",
    "            break   \n",
    "        newNode = node(currData)\n",
    "        if head==None:\n",
    "            head=newNode\n",
    "            tail=newNode\n",
    "        else:\n",
    "            tail.next=newNode\n",
    "            tail=newNode\n",
    "    return head\n",
    "            \n",
    "def printLL(head):\n",
    "    temp=head\n",
    "    while temp.next!=None:\n",
    "        print(temp.data,end = \"->\")\n",
    "        temp=temp.next\n",
    "    print(temp.data)\n",
    "def reverseLL(head):\n",
    "    if (head == None) or (head.next==None):\n",
    "        return head\n",
    "    nextNode = reverseLL(head.next)\n",
    "    head.next.next=head\n",
    "    head.next=None\n",
    "    return nextNode"
   ]
  },
  {
   "cell_type": "code",
   "execution_count": 14,
   "id": "d48efb27-fcc3-465f-8ea9-27ebfd3a2fbc",
   "metadata": {},
   "outputs": [
    {
     "name": "stdin",
     "output_type": "stream",
     "text": [
      " 2 3 4 5 6 7 -1\n"
     ]
    },
    {
     "name": "stdout",
     "output_type": "stream",
     "text": [
      "2->3->4->5->6->7\n",
      "\n",
      "7->6->5->4->3->2\n",
      "\n"
     ]
    }
   ],
   "source": [
    "ll=takeInputLL()\n",
    "printLL(ll)\n",
    "ll = reverseLL(ll)\n",
    "printLL(ll)"
   ]
  },
  {
   "cell_type": "code",
   "execution_count": 15,
   "id": "609ca777-8921-4cba-aac9-f88a5d7bc27c",
   "metadata": {},
   "outputs": [],
   "source": [
    "def nextNumLL(numLL):\n",
    "    if numLL==None:\n",
    "        return None\n",
    "    incremented=False\n",
    "    reverseNumHead=reverseLL(numLL)\n",
    "    temp=reverseNumHead\n",
    "    while(temp.data==9 and temp.next!=None):\n",
    "        temp.data=0\n",
    "        temp=temp.next\n",
    "    if temp.data==9 and temp.next==None:\n",
    "        temp.data=0\n",
    "        newNode = node(1)\n",
    "        temp.next=newNode\n",
    "        return reverseLL(reverseNumHead)\n",
    "    temp.data = temp.data+1\n",
    "    return reverseLL(reverseNumHead)"
   ]
  },
  {
   "cell_type": "code",
   "execution_count": 19,
   "id": "ba08de0d-c032-420e-b7d5-d2d37a15c7f5",
   "metadata": {
    "tags": []
   },
   "outputs": [
    {
     "name": "stdin",
     "output_type": "stream",
     "text": [
      " 9 9 9 9 -1\n"
     ]
    },
    {
     "name": "stdout",
     "output_type": "stream",
     "text": [
      "9->9->9->9\n",
      "\n",
      "1->0->0->0->0\n",
      "\n"
     ]
    }
   ],
   "source": [
    "ll = takeInputLL()\n",
    "printLL(ll)\n",
    "ll = nextNumLL(ll)\n",
    "printLL(ll)"
   ]
  },
  {
   "cell_type": "code",
   "execution_count": null,
   "id": "b27915a9-44a6-4a03-a429-704c7e463701",
   "metadata": {},
   "outputs": [],
   "source": []
  }
 ],
 "metadata": {
  "kernelspec": {
   "display_name": "Python 3 (ipykernel)",
   "language": "python",
   "name": "python3"
  },
  "language_info": {
   "codemirror_mode": {
    "name": "ipython",
    "version": 3
   },
   "file_extension": ".py",
   "mimetype": "text/x-python",
   "name": "python",
   "nbconvert_exporter": "python",
   "pygments_lexer": "ipython3",
   "version": "3.11.5"
  }
 },
 "nbformat": 4,
 "nbformat_minor": 5
}
